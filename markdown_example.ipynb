{
  "nbformat": 4,
  "nbformat_minor": 0,
  "metadata": {
    "colab": {
      "provenance": [],
      "authorship_tag": "ABX9TyNdrIQ3N9B534e7gdTdK6Pz",
      "include_colab_link": true
    },
    "kernelspec": {
      "name": "python3",
      "display_name": "Python 3"
    },
    "language_info": {
      "name": "python"
    }
  },
  "cells": [
    {
      "cell_type": "markdown",
      "metadata": {
        "id": "view-in-github",
        "colab_type": "text"
      },
      "source": [
        "<a href=\"https://colab.research.google.com/github/okcodebase/cc_coursera/blob/main/markdown_example.ipynb\" target=\"_parent\"><img src=\"https://colab.research.google.com/assets/colab-badge.svg\" alt=\"Open In Colab\"/></a>"
      ]
    },
    {
      "cell_type": "code",
      "execution_count": 2,
      "metadata": {
        "colab": {
          "base_uri": "https://localhost:8080/"
        },
        "id": "7FVbKpBW63Ub",
        "outputId": "17fe4e83-efe8-4a1e-b011-39099c7dbf7b"
      },
      "outputs": [
        {
          "output_type": "stream",
          "name": "stdout",
          "text": [
            "hello world\n"
          ]
        }
      ],
      "source": [
        "print(\"hello world\")"
      ]
    },
    {
      "cell_type": "markdown",
      "source": [
        "# Title\n",
        "## First subtitle\n",
        "\n",
        "\n",
        "This ~~was~~ is an error\n",
        "\n",
        "## Here is a quote\n",
        ">Quote\n",
        "\n",
        "## Here is some code\n",
        "\n",
        "```\n",
        "git status\n",
        "git fetch origin\n",
        "```\n",
        "\n",
        "## Here comes a link\n",
        "[wikipedia](https://www.wikipedia.org/)"
      ],
      "metadata": {
        "id": "flYTc0lG8guB"
      }
    }
  ]
}